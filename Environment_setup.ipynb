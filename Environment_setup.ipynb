{
 "cells": [
  {
   "cell_type": "code",
   "execution_count": 5,
   "outputs": [
    {
     "data": {
      "text/plain": "'peppy-sensor-406802'"
     },
     "execution_count": 5,
     "metadata": {},
     "output_type": "execute_result"
    }
   ],
   "source": [
    "REGOIN = 'us-central1'\n",
    "PROJECT_ID = 'peppy-sensor-406802'\n",
    "PROJECT_ID"
   ],
   "metadata": {
    "collapsed": false,
    "ExecuteTime": {
     "end_time": "2023-12-03T06:56:01.814232200Z",
     "start_time": "2023-12-03T06:56:01.792823900Z"
    }
   },
   "id": "012e3b4a-91a6-4a4e-9091-cd87fb677652"
  },
  {
   "cell_type": "code",
   "execution_count": 7,
   "id": "100994b7-f682-4055-9ff2-54863c9e299a",
   "metadata": {
    "tags": [],
    "ExecuteTime": {
     "end_time": "2023-12-03T06:56:05.657888800Z",
     "start_time": "2023-12-03T06:56:05.652882700Z"
    }
   },
   "outputs": [],
   "source": [
    "from google.cloud import bigquery\n",
    "from google.cloud import storage\n",
    "import pandas as pd\n",
    "from sklearn import datasets"
   ]
  },
  {
   "cell_type": "code",
   "execution_count": 12,
   "id": "13237c19-f08c-481f-8ba6-a93bc358475f",
   "metadata": {
    "ExecuteTime": {
     "end_time": "2023-12-03T07:04:09.746906900Z",
     "start_time": "2023-12-03T07:04:09.668983700Z"
    }
   },
   "outputs": [
    {
     "ename": "DefaultCredentialsError",
     "evalue": "Your default credentials were not found. To set up Application Default Credentials, see https://cloud.google.com/docs/authentication/external/set-up-adc for more information.",
     "output_type": "error",
     "traceback": [
      "\u001B[1;31m---------------------------------------------------------------------------\u001B[0m",
      "\u001B[1;31mDefaultCredentialsError\u001B[0m                   Traceback (most recent call last)",
      "Cell \u001B[1;32mIn[12], line 1\u001B[0m\n\u001B[1;32m----> 1\u001B[0m gcs \u001B[38;5;241m=\u001B[39m \u001B[43mstorage\u001B[49m\u001B[38;5;241;43m.\u001B[39;49m\u001B[43mClient\u001B[49m\u001B[43m(\u001B[49m\u001B[43mproject\u001B[49m\u001B[38;5;241;43m=\u001B[39;49m\u001B[43m \u001B[49m\u001B[43mPROJECT_ID\u001B[49m\u001B[43m)\u001B[49m\n\u001B[0;32m      2\u001B[0m bq \u001B[38;5;241m=\u001B[39m bigquery\u001B[38;5;241m.\u001B[39mClient(project\u001B[38;5;241m=\u001B[39m PROJECT_ID)\n",
      "File \u001B[1;32m~\\PycharmProjects\\IntroDatamining\\venv\\Lib\\site-packages\\google\\cloud\\storage\\client.py:172\u001B[0m, in \u001B[0;36mClient.__init__\u001B[1;34m(self, project, credentials, _http, client_info, client_options, use_auth_w_custom_endpoint, extra_headers)\u001B[0m\n\u001B[0;32m    169\u001B[0m             no_project \u001B[38;5;241m=\u001B[39m \u001B[38;5;28;01mTrue\u001B[39;00m\n\u001B[0;32m    170\u001B[0m             project \u001B[38;5;241m=\u001B[39m \u001B[38;5;124m\"\u001B[39m\u001B[38;5;124m<none>\u001B[39m\u001B[38;5;124m\"\u001B[39m\n\u001B[1;32m--> 172\u001B[0m \u001B[38;5;28;43msuper\u001B[39;49m\u001B[43m(\u001B[49m\u001B[43mClient\u001B[49m\u001B[43m,\u001B[49m\u001B[43m \u001B[49m\u001B[38;5;28;43mself\u001B[39;49m\u001B[43m)\u001B[49m\u001B[38;5;241;43m.\u001B[39;49m\u001B[38;5;21;43m__init__\u001B[39;49m\u001B[43m(\u001B[49m\n\u001B[0;32m    173\u001B[0m \u001B[43m    \u001B[49m\u001B[43mproject\u001B[49m\u001B[38;5;241;43m=\u001B[39;49m\u001B[43mproject\u001B[49m\u001B[43m,\u001B[49m\n\u001B[0;32m    174\u001B[0m \u001B[43m    \u001B[49m\u001B[43mcredentials\u001B[49m\u001B[38;5;241;43m=\u001B[39;49m\u001B[43mcredentials\u001B[49m\u001B[43m,\u001B[49m\n\u001B[0;32m    175\u001B[0m \u001B[43m    \u001B[49m\u001B[43mclient_options\u001B[49m\u001B[38;5;241;43m=\u001B[39;49m\u001B[43mclient_options\u001B[49m\u001B[43m,\u001B[49m\n\u001B[0;32m    176\u001B[0m \u001B[43m    \u001B[49m\u001B[43m_http\u001B[49m\u001B[38;5;241;43m=\u001B[39;49m\u001B[43m_http\u001B[49m\u001B[43m,\u001B[49m\n\u001B[0;32m    177\u001B[0m \u001B[43m\u001B[49m\u001B[43m)\u001B[49m\n\u001B[0;32m    179\u001B[0m \u001B[38;5;28;01mif\u001B[39;00m no_project:\n\u001B[0;32m    180\u001B[0m     \u001B[38;5;28mself\u001B[39m\u001B[38;5;241m.\u001B[39mproject \u001B[38;5;241m=\u001B[39m \u001B[38;5;28;01mNone\u001B[39;00m\n",
      "File \u001B[1;32m~\\PycharmProjects\\IntroDatamining\\venv\\Lib\\site-packages\\google\\cloud\\client\\__init__.py:321\u001B[0m, in \u001B[0;36mClientWithProject.__init__\u001B[1;34m(self, project, credentials, client_options, _http)\u001B[0m\n\u001B[0;32m    319\u001B[0m \u001B[38;5;28;01mdef\u001B[39;00m \u001B[38;5;21m__init__\u001B[39m(\u001B[38;5;28mself\u001B[39m, project\u001B[38;5;241m=\u001B[39m\u001B[38;5;28;01mNone\u001B[39;00m, credentials\u001B[38;5;241m=\u001B[39m\u001B[38;5;28;01mNone\u001B[39;00m, client_options\u001B[38;5;241m=\u001B[39m\u001B[38;5;28;01mNone\u001B[39;00m, _http\u001B[38;5;241m=\u001B[39m\u001B[38;5;28;01mNone\u001B[39;00m):\n\u001B[0;32m    320\u001B[0m     _ClientProjectMixin\u001B[38;5;241m.\u001B[39m\u001B[38;5;21m__init__\u001B[39m(\u001B[38;5;28mself\u001B[39m, project\u001B[38;5;241m=\u001B[39mproject, credentials\u001B[38;5;241m=\u001B[39mcredentials)\n\u001B[1;32m--> 321\u001B[0m     \u001B[43mClient\u001B[49m\u001B[38;5;241;43m.\u001B[39;49m\u001B[38;5;21;43m__init__\u001B[39;49m\u001B[43m(\u001B[49m\n\u001B[0;32m    322\u001B[0m \u001B[43m        \u001B[49m\u001B[38;5;28;43mself\u001B[39;49m\u001B[43m,\u001B[49m\u001B[43m \u001B[49m\u001B[43mcredentials\u001B[49m\u001B[38;5;241;43m=\u001B[39;49m\u001B[43mcredentials\u001B[49m\u001B[43m,\u001B[49m\u001B[43m \u001B[49m\u001B[43mclient_options\u001B[49m\u001B[38;5;241;43m=\u001B[39;49m\u001B[43mclient_options\u001B[49m\u001B[43m,\u001B[49m\u001B[43m \u001B[49m\u001B[43m_http\u001B[49m\u001B[38;5;241;43m=\u001B[39;49m\u001B[43m_http\u001B[49m\n\u001B[0;32m    323\u001B[0m \u001B[43m    \u001B[49m\u001B[43m)\u001B[49m\n",
      "File \u001B[1;32m~\\PycharmProjects\\IntroDatamining\\venv\\Lib\\site-packages\\google\\cloud\\client\\__init__.py:178\u001B[0m, in \u001B[0;36mClient.__init__\u001B[1;34m(self, credentials, _http, client_options)\u001B[0m\n\u001B[0;32m    174\u001B[0m         credentials, _ \u001B[38;5;241m=\u001B[39m google\u001B[38;5;241m.\u001B[39mauth\u001B[38;5;241m.\u001B[39mload_credentials_from_file(\n\u001B[0;32m    175\u001B[0m             client_options\u001B[38;5;241m.\u001B[39mcredentials_file, scopes\u001B[38;5;241m=\u001B[39mscopes\n\u001B[0;32m    176\u001B[0m         )\n\u001B[0;32m    177\u001B[0m     \u001B[38;5;28;01melse\u001B[39;00m:\n\u001B[1;32m--> 178\u001B[0m         credentials, _ \u001B[38;5;241m=\u001B[39m \u001B[43mgoogle\u001B[49m\u001B[38;5;241;43m.\u001B[39;49m\u001B[43mauth\u001B[49m\u001B[38;5;241;43m.\u001B[39;49m\u001B[43mdefault\u001B[49m\u001B[43m(\u001B[49m\u001B[43mscopes\u001B[49m\u001B[38;5;241;43m=\u001B[39;49m\u001B[43mscopes\u001B[49m\u001B[43m)\u001B[49m\n\u001B[0;32m    180\u001B[0m \u001B[38;5;28mself\u001B[39m\u001B[38;5;241m.\u001B[39m_credentials \u001B[38;5;241m=\u001B[39m google\u001B[38;5;241m.\u001B[39mauth\u001B[38;5;241m.\u001B[39mcredentials\u001B[38;5;241m.\u001B[39mwith_scopes_if_required(\n\u001B[0;32m    181\u001B[0m     credentials, scopes\u001B[38;5;241m=\u001B[39mscopes\n\u001B[0;32m    182\u001B[0m )\n\u001B[0;32m    184\u001B[0m \u001B[38;5;28;01mif\u001B[39;00m client_options\u001B[38;5;241m.\u001B[39mquota_project_id:\n",
      "File \u001B[1;32m~\\PycharmProjects\\IntroDatamining\\venv\\Lib\\site-packages\\google\\auth\\_default.py:691\u001B[0m, in \u001B[0;36mdefault\u001B[1;34m(scopes, request, quota_project_id, default_scopes)\u001B[0m\n\u001B[0;32m    683\u001B[0m             _LOGGER\u001B[38;5;241m.\u001B[39mwarning(\n\u001B[0;32m    684\u001B[0m                 \u001B[38;5;124m\"\u001B[39m\u001B[38;5;124mNo project ID could be determined. Consider running \u001B[39m\u001B[38;5;124m\"\u001B[39m\n\u001B[0;32m    685\u001B[0m                 \u001B[38;5;124m\"\u001B[39m\u001B[38;5;124m`gcloud config set project` or setting the \u001B[39m\u001B[38;5;132;01m%s\u001B[39;00m\u001B[38;5;124m \u001B[39m\u001B[38;5;124m\"\u001B[39m\n\u001B[0;32m    686\u001B[0m                 \u001B[38;5;124m\"\u001B[39m\u001B[38;5;124menvironment variable\u001B[39m\u001B[38;5;124m\"\u001B[39m,\n\u001B[0;32m    687\u001B[0m                 environment_vars\u001B[38;5;241m.\u001B[39mPROJECT,\n\u001B[0;32m    688\u001B[0m             )\n\u001B[0;32m    689\u001B[0m         \u001B[38;5;28;01mreturn\u001B[39;00m credentials, effective_project_id\n\u001B[1;32m--> 691\u001B[0m \u001B[38;5;28;01mraise\u001B[39;00m exceptions\u001B[38;5;241m.\u001B[39mDefaultCredentialsError(_CLOUD_SDK_MISSING_CREDENTIALS)\n",
      "\u001B[1;31mDefaultCredentialsError\u001B[0m: Your default credentials were not found. To set up Application Default Credentials, see https://cloud.google.com/docs/authentication/external/set-up-adc for more information."
     ]
    }
   ],
   "source": [
    "gcs = storage.Client(project= PROJECT_ID)\n",
    "bq = bigquery.Client(project= PROJECT_ID)"
   ]
  },
  {
   "cell_type": "code",
   "execution_count": null,
   "outputs": [],
   "source": [
    "BUCKET = PROJECT_ID"
   ],
   "metadata": {
    "collapsed": false,
    "ExecuteTime": {
     "end_time": "2023-12-03T06:37:03.389422100Z",
     "start_time": "2023-12-03T06:37:03.383437600Z"
    }
   },
   "id": "a6810a571cb83ceb"
  },
  {
   "cell_type": "code",
   "execution_count": null,
   "outputs": [],
   "source": [
    "if not gcs.lookup_bucket(BUCKET):\n",
    "    bucketDef = gcs.bucket(BUCKET)\n",
    "    bucket = gcs.create_bucket(bucketDef, project= PROJECT_ID, location=REGOIN)\n",
    "    print(f'Created Bucket: {gcs.lookup_bucket(BUCKET).name}')\n",
    "else:\n",
    "    bucketDef = gcs.bucket(BUCKET)\n",
    "    print(f'bucket already exist: {bucketDef.name}')"
   ],
   "metadata": {
    "collapsed": false,
    "ExecuteTime": {
     "start_time": "2023-12-03T06:37:03.386420200Z"
    }
   },
   "id": "b066c43c4d2a8c7e"
  },
  {
   "cell_type": "code",
   "execution_count": null,
   "outputs": [],
   "source": [
    "print(f'Review the storage bucket in the console here: \\n https://console.cloud.google.com/storage/browser/{PROJECT_ID}; tap')"
   ],
   "metadata": {
    "collapsed": false,
    "ExecuteTime": {
     "start_time": "2023-12-03T06:37:03.388420300Z"
    }
   },
   "id": "f1ea9c24979be2c5"
  }
 ],
 "metadata": {
  "environment": {
   "kernel": "python3",
   "name": "tf2-gpu.2-13.m113",
   "type": "gcloud",
   "uri": "gcr.io/deeplearning-platform-release/tf2-gpu.2-13:m113"
  },
  "kernelspec": {
   "display_name": "Python 3",
   "language": "python",
   "name": "python3"
  },
  "language_info": {
   "codemirror_mode": {
    "name": "ipython",
    "version": 3
   },
   "file_extension": ".py",
   "mimetype": "text/x-python",
   "name": "python",
   "nbconvert_exporter": "python",
   "pygments_lexer": "ipython3",
   "version": "3.10.13"
  },
  "toc-showcode": true
 },
 "nbformat": 4,
 "nbformat_minor": 5
}
